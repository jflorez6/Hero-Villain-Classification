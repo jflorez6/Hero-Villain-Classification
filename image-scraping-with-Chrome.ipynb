{
 "cells": [
  {
   "cell_type": "markdown",
   "metadata": {},
   "source": [
    "# Introduction\n",
    "\n",
    "In this notebook I scrape image data from Google and Yandex on Google Chrome. The goal is to add images of Marvel superheros and villains to the data set in this repository.\n",
    "\n",
    "So far, have added:\n",
    "\n",
    "Good\n",
    "\n",
    "- Spider-Man\n",
    "- Captain Marvel\n",
    "\n",
    "Evil\n",
    "\n",
    "## Load all packages"
   ]
  },
  {
   "cell_type": "code",
   "execution_count": 1,
   "metadata": {},
   "outputs": [],
   "source": [
    "from PIL import Image\n",
    "import os\n",
    "from selenium import webdriver\n",
    "import time\n",
    "import io\n",
    "import requests\n",
    "import hashlib"
   ]
  },
  {
   "cell_type": "markdown",
   "metadata": {},
   "source": [
    "## Scraping from Google Chrome\n",
    "\n",
    "The bit of code below functions to scrape images from Google. This method is based on this post which gives info on how to scrape image data from Google: [https://medium.com/p/a96feda8af2d](https://medium.com/p/a96feda8af2d)"
   ]
  },
  {
   "cell_type": "code",
   "execution_count": 2,
   "metadata": {},
   "outputs": [],
   "source": [
    "character = 'captain_america'\n",
    "class_term = 'good'\n",
    "search_term = character + '_' + 'cartoons'"
   ]
  },
  {
   "cell_type": "code",
   "execution_count": 3,
   "metadata": {},
   "outputs": [],
   "source": [
    "DRIVER_PATH = './chromedriver'\n",
    "wd = webdriver.Chrome(executable_path=DRIVER_PATH)"
   ]
  },
  {
   "cell_type": "code",
   "execution_count": 4,
   "metadata": {},
   "outputs": [],
   "source": [
    "wd.get('https://google.com')\n"
   ]
  },
  {
   "cell_type": "code",
   "execution_count": 5,
   "metadata": {},
   "outputs": [],
   "source": [
    "def fetch_image_urls(query:str, max_links_to_fetch:int, wd:webdriver, sleep_between_interactions:int=1):\n",
    "    def scroll_to_end(wd):\n",
    "        wd.execute_script(\"window.scrollTo(0, document.body.scrollHeight);\")\n",
    "        time.sleep(sleep_between_interactions)    \n",
    "    \n",
    "    # build the google query\n",
    "    search_url = \"https://www.google.com/search?safe=off&site=&tbm=isch&source=hp&q={q}&oq={q}&gs_l=img\"\n",
    "\n",
    "    # load the page\n",
    "    wd.get(search_url.format(q=query))\n",
    "\n",
    "    image_urls = set()\n",
    "    image_count = 0\n",
    "    results_start = 0\n",
    "    while image_count < max_links_to_fetch:\n",
    "        scroll_to_end(wd)\n",
    "\n",
    "        # get all image thumbnail results\n",
    "        thumbnail_results = wd.find_elements_by_css_selector(\"img.Q4LuWd\")\n",
    "        number_results = len(thumbnail_results)\n",
    "        \n",
    "        print(f\"Found: {number_results} search results. Extracting links from {results_start}:{number_results}\")\n",
    "        \n",
    "        for img in thumbnail_results[results_start:number_results]:\n",
    "            # try to click every thumbnail such that we can get the real image behind it\n",
    "            try:\n",
    "                img.click()\n",
    "                time.sleep(sleep_between_interactions)\n",
    "            except Exception:\n",
    "                continue\n",
    "\n",
    "            # extract image urls    \n",
    "            actual_images = wd.find_elements_by_css_selector('img.n3VNCb')\n",
    "            for actual_image in actual_images:\n",
    "                if actual_image.get_attribute('src') and 'http' in actual_image.get_attribute('src'):\n",
    "                    image_urls.add(actual_image.get_attribute('src'))\n",
    "\n",
    "            image_count = len(image_urls)\n",
    "\n",
    "            if len(image_urls) >= max_links_to_fetch:\n",
    "                print(f\"Found: {len(image_urls)} image links, done!\")\n",
    "                break\n",
    "        else:\n",
    "            print(\"Found:\", len(image_urls), \"image links, looking for more ...\")\n",
    "            time.sleep(30)\n",
    "            return\n",
    "            load_more_button = wd.find_element_by_css_selector(\".mye4qd\")\n",
    "            if load_more_button:\n",
    "                wd.execute_script(\"document.querySelector('.mye4qd').click();\")\n",
    "\n",
    "        # move the result startpoint further down\n",
    "        results_start = len(thumbnail_results)\n",
    "\n",
    "    return image_urls"
   ]
  },
  {
   "cell_type": "code",
   "execution_count": 6,
   "metadata": {},
   "outputs": [],
   "source": [
    "def persist_image(folder_path:str,url:str):\n",
    "    try:\n",
    "        image_content = requests.get(url).content\n",
    "\n",
    "    except Exception as e:\n",
    "        print(f\"ERROR - Could not download {url} - {e}\")\n",
    "\n",
    "    try:\n",
    "        image_file = io.BytesIO(image_content)\n",
    "        image = Image.open(image_file).convert('RGB')\n",
    "        file_path = os.path.join(folder_path,hashlib.sha1(image_content).hexdigest()[:10] + '.jpg')\n",
    "        with open(file_path, 'wb') as f:\n",
    "            image.save(f, \"JPEG\")\n",
    "        print(f\"SUCCESS - saved {url} - as {file_path}\")\n",
    "    except Exception as e:\n",
    "        print(f\"ERROR - Could not save {url} - {e}\")"
   ]
  },
  {
   "cell_type": "code",
   "execution_count": 7,
   "metadata": {},
   "outputs": [],
   "source": [
    "def search_and_download(search_term:str,driver_path:str,target_path='characters/' + class_term,number_images=5):\n",
    "    target_folder = os.path.join(target_path,'_'.join(search_term.lower().split(' ')))\n",
    "\n",
    "    if not os.path.exists(target_folder):\n",
    "        os.makedirs(target_folder)\n",
    "\n",
    "    with webdriver.Chrome(executable_path=driver_path) as wd:\n",
    "        res = fetch_image_urls(search_term, number_images, wd=wd, sleep_between_interactions=0.5)\n",
    "        \n",
    "    for elem in res:\n",
    "        persist_image(target_folder,elem)"
   ]
  },
  {
   "cell_type": "markdown",
   "metadata": {},
   "source": [
    "In the code below we may have to adjust number of images we can pull from Google. If it finds less than the number of images indicated it will return an error."
   ]
  },
  {
   "cell_type": "code",
   "execution_count": 8,
   "metadata": {
    "scrolled": false
   },
   "outputs": [
    {
     "name": "stdout",
     "output_type": "stream",
     "text": [
      "Found: 100 search results. Extracting links from 0:100\n",
      "Found: 30 image links, done!\n",
      "SUCCESS - saved https://img.favpng.com/16/3/3/captain-america-hulk-cartoon-comics-drawing-png-favpng-kFsjiYzQhjxqghyprQ4k6iyLT.jpg - as characters/good/captain_america_cartoons/7ef95ea235.jpg\n",
      "SUCCESS - saved https://encrypted-tbn0.gstatic.com/images?q=tbn:ANd9GcR_QVAY0QTVqTAgBeQozKIaULIZ-K3HUccSIg&usqp=CAU - as characters/good/captain_america_cartoons/de347e2125.jpg\n",
      "SUCCESS - saved https://encrypted-tbn0.gstatic.com/images?q=tbn:ANd9GcQlpEQaiZumgLj7mD7r9JcqavAw9zesS4Soig&usqp=CAU - as characters/good/captain_america_cartoons/082f3948ed.jpg\n",
      "SUCCESS - saved https://i.ytimg.com/vi/0Zph6S5iEdc/maxresdefault.jpg - as characters/good/captain_america_cartoons/b50ae759ae.jpg\n",
      "SUCCESS - saved https://i.pinimg.com/736x/15/f9/6d/15f96d6a7f1bbe1ec1c0c82c080966d5.jpg - as characters/good/captain_america_cartoons/a128a1e8d5.jpg\n",
      "SUCCESS - saved https://i5.walmartimages.com/asr/03d55391-2c1f-4191-a7be-adaec1543683.b3a75f18637315e3f017d7aea16011ab.jpeg?odnHeight=612&odnWidth=612&odnBg=FFFFFF - as characters/good/captain_america_cartoons/cbbb63ff15.jpg\n",
      "SUCCESS - saved https://encrypted-tbn0.gstatic.com/images?q=tbn:ANd9GcSaEUK3LXI6c8V_AaNMYpIywdlxA6cxwTBFew&usqp=CAU - as characters/good/captain_america_cartoons/f2653b4941.jpg\n",
      "SUCCESS - saved https://www.pinclipart.com/picdir/middle/534-5340644_captain-america-iron-man-captain-america-avengers-cartoon.png - as characters/good/captain_america_cartoons/1e0b3b3e7b.jpg\n",
      "SUCCESS - saved https://encrypted-tbn0.gstatic.com/images?q=tbn:ANd9GcSuxUbu3ml0it0j7aEhHu0A5nRgDpL0_9Zgdg&usqp=CAU - as characters/good/captain_america_cartoons/cb125fd7fe.jpg\n",
      "SUCCESS - saved https://encrypted-tbn0.gstatic.com/images?q=tbn:ANd9GcR4q_b92h4t9T2TOoqMyGedBvOjGhHZ5k_O-w&usqp=CAU - as characters/good/captain_america_cartoons/b5c7a022d0.jpg\n",
      "SUCCESS - saved https://www.vhv.rs/dpng/d/596-5962004_exquisite-captain-america-cartoon-26-png-clip-art.png - as characters/good/captain_america_cartoons/15e6a143b6.jpg\n",
      "SUCCESS - saved https://encrypted-tbn0.gstatic.com/images?q=tbn:ANd9GcQKC8_nk8GcrbpCTLYlYA2Cc5uSRhTqHq8I_g&usqp=CAU - as characters/good/captain_america_cartoons/ba8b859c15.jpg\n",
      "SUCCESS - saved https://encrypted-tbn0.gstatic.com/images?q=tbn:ANd9GcTFBMga4V6zcgT-KLiwzfLadiSDaGhuOWP-ig&usqp=CAU - as characters/good/captain_america_cartoons/047115817f.jpg\n",
      "SUCCESS - saved https://encrypted-tbn0.gstatic.com/images?q=tbn:ANd9GcQuC106Wrig3lYd8wLnZ7M2yljOuvEaFufkEw&usqp=CAU - as characters/good/captain_america_cartoons/8068e7e788.jpg\n",
      "SUCCESS - saved https://sketchok.com/images/articles/02-comics/006-superheroes-chibi/04/12.jpg - as characters/good/captain_america_cartoons/158734659e.jpg\n",
      "SUCCESS - saved https://i.pinimg.com/originals/d4/36/0f/d4360f8738c65556e82395ee7666ef9c.jpg - as characters/good/captain_america_cartoons/3932610d0b.jpg\n",
      "SUCCESS - saved https://encrypted-tbn0.gstatic.com/images?q=tbn:ANd9GcS_rgRIRvJaDJj3xfqSORfoiNYDF043XHVTBw&usqp=CAU - as characters/good/captain_america_cartoons/6deaa597f7.jpg\n",
      "SUCCESS - saved https://encrypted-tbn0.gstatic.com/images?q=tbn:ANd9GcRHYXohNMviWJCOk0-sTah7ySy0npK-oPrnkw&usqp=CAU - as characters/good/captain_america_cartoons/921e6a72b0.jpg\n",
      "SUCCESS - saved https://static.wikia.nocookie.net/marvelanimated/images/8/87/Captain_America.jpg/revision/latest?cb=20110724032205 - as characters/good/captain_america_cartoons/c715053906.jpg\n",
      "SUCCESS - saved https://encrypted-tbn0.gstatic.com/images?q=tbn:ANd9GcRemO0AKoxgj6mfUumci8FmwFMs04UNjF0UiA&usqp=CAU - as characters/good/captain_america_cartoons/14c36b0b27.jpg\n",
      "SUCCESS - saved https://encrypted-tbn0.gstatic.com/images?q=tbn:ANd9GcRKRHofU5PhEGCvqqMa_GSW3yzWEpfUyqBbGA&usqp=CAU - as characters/good/captain_america_cartoons/472012dbb0.jpg\n",
      "SUCCESS - saved https://encrypted-tbn0.gstatic.com/images?q=tbn:ANd9GcTkcWUY4sZ7wdV58d_fGjnZg03gHGYtEuK5Ng&usqp=CAU - as characters/good/captain_america_cartoons/032a8de8e7.jpg\n",
      "SUCCESS - saved https://www.cuteeasydrawings.com/uploads/allimg/201027/1_201027090112_1.png - as characters/good/captain_america_cartoons/e7b211147d.jpg\n",
      "SUCCESS - saved https://encrypted-tbn0.gstatic.com/images?q=tbn:ANd9GcQsU_YBSJE8AaSa_qOUeoAaZ5PtGavft9Lgqg&usqp=CAU - as characters/good/captain_america_cartoons/1371c00306.jpg\n",
      "SUCCESS - saved https://encrypted-tbn0.gstatic.com/images?q=tbn:ANd9GcQeqzZ6EFFEU_raCZmtluTJ_gCuNkWwkmfRNQ&usqp=CAU - as characters/good/captain_america_cartoons/ee0ca132a5.jpg\n",
      "SUCCESS - saved https://cdnb.artstation.com/p/assets/images/images/014/326/001/large/kimmai-dang-suabaicaptainsingle.jpg?1543500290 - as characters/good/captain_america_cartoons/ad211bbd69.jpg\n",
      "SUCCESS - saved https://encrypted-tbn0.gstatic.com/images?q=tbn:ANd9GcSABP8HQ68YXX0Wo1fS-8jadX0SzKIQlAR09Q&usqp=CAU - as characters/good/captain_america_cartoons/5adaee10fd.jpg\n",
      "SUCCESS - saved https://encrypted-tbn0.gstatic.com/images?q=tbn:ANd9GcQVZ1v9VAczd49GgYRLYH9mtKfiXX-WE2GxQw&usqp=CAU - as characters/good/captain_america_cartoons/ba7283a62a.jpg\n",
      "SUCCESS - saved https://encrypted-tbn0.gstatic.com/images?q=tbn:ANd9GcRFXrwsklCof9HFuhw3g0SEDquJJ9-jSPw-HQ&usqp=CAU - as characters/good/captain_america_cartoons/06ff4c5dc0.jpg\n",
      "SUCCESS - saved https://i.pinimg.com/originals/89/ab/37/89ab37463c20cc79887041388de727ce.jpg - as characters/good/captain_america_cartoons/abbe827e56.jpg\n"
     ]
    }
   ],
   "source": [
    "img_path = 'characters/' + class_term + '/' + search_term + '/'\n",
    "\n",
    "if search_term not in os.listdir('characters/' + class_term + '/'): \n",
    "    os.mkdir(img_path)\n",
    "\n",
    "search_and_download(search_term=search_term,driver_path=DRIVER_PATH,number_images=30)"
   ]
  },
  {
   "cell_type": "markdown",
   "metadata": {},
   "source": [
    "## Scraping images on Yandex\n",
    "\n",
    "The next line of code searches Yandex for images of the search term and puts them in a temporary folder named 'downloads' which I then delete after moving the images out of there. Note that these are run outside of Python (hence the ! before each command)."
   ]
  },
  {
   "cell_type": "code",
   "execution_count": 9,
   "metadata": {
    "scrolled": true
   },
   "outputs": [
    {
     "name": "stdout",
     "output_type": "stream",
     "text": [
      "Output directory is set to \"downloads/\"\n",
      "Limit of images is set to 50\n",
      "Downloading images for captain america cartoons...\n",
      "  Found 50 pages of captain america cartoons.\n",
      "  Scrapping page 1/2...\n",
      "    Downloaded the image. ==> downloads/captain america cartoons/Cartoon-Image-Of-Captain-America-PNG-Captain-Ameri.jpg\n",
      "    Downloaded the image. ==> downloads/captain america cartoons/e1a70241390388aae93d1feef9bc88a2.png\n",
      "    Downloaded the image. ==> downloads/captain america cartoons/png-clipart-captain-america-captain-america-infant.png\n",
      "    Downloaded the image. ==> downloads/captain america cartoons/38-383819_captain-america-clipart-9ipzkr9at-avenge.png\n",
      "    Downloaded the image. ==> downloads/captain america cartoons/cartoon-captain-america-png-15.png\n",
      "    Downloaded the image. ==> downloads/captain america cartoons/742d649b06da5d12fc0c8c9bda7f3df3.png\n",
      "    Downloaded the image. ==> downloads/captain america cartoons/10-100179_free-png-captain-america-png-images-tran.png\n",
      "    Downloaded the image. ==> downloads/captain america cartoons/wp5173531.jpg\n",
      "    Downloaded the image. ==> downloads/captain america cartoons/ArtStation-Avengers-Assemble-Captain-America-Jerem.jpg\n",
      "    Downloaded the image. ==> downloads/captain america cartoons/ecca71bedc09e7702dfb21c4f7d1002f.jpg\n",
      "    Downloaded the image. ==> downloads/captain america cartoons/189-1891909_marvel-iron-man-and-captain-america.png\n",
      "    Downloaded the image. ==> downloads/captain america cartoons/606129.jpg\n",
      "    Downloaded the image. ==> downloads/captain america cartoons/9e1da3b57d46f8552138ae319450ee38.png\n",
      "    Downloaded the image. ==> downloads/captain america cartoons/c0920dcff754876c0ef09282bbfd7fed.jpg\n",
      "    Downloaded the image. ==> downloads/captain america cartoons/captain-america-104-pcs-supercolor_IkK71MI.jpg\n",
      "    Downloaded the image. ==> downloads/captain america cartoons/109-1090950_captain-america-clipart-awesome-captai.png\n",
      "    Downloaded the image. ==> downloads/captain america cartoons/kimmai-dang-suabaicaptainsingle.jpg\n",
      "    Downloaded the image. ==> downloads/captain america cartoons/87-875215_marvel-avengers-captain-america-captain-.png\n",
      "    Downloaded the image. ==> downloads/captain america cartoons/0f51a5c5a3cfa4364281e20a3cdb6a93.jpg\n",
      "    Downloaded the image. ==> downloads/captain america cartoons/AE_Cooper-Ellis_CaptianAmerica_Issue9.png\n",
      "    Downloaded the image. ==> downloads/captain america cartoons/9b89db5904e75ea3030cc419e50804dd.png\n",
      "    Downloaded the image. ==> downloads/captain america cartoons/cartoon-captain-america-png-8.png\n",
      "    Downloaded the image. ==> downloads/captain america cartoons/202-2025749_captain-america-png-transparent-image-.png\n",
      "    Downloaded the image. ==> downloads/captain america cartoons/captain-america.jpg\n",
      "    Downloaded the image. ==> downloads/captain america cartoons/af03d2c6d7ed2ea72c7b669943675542.jpg\n",
      "    Downloaded the image. ==> downloads/captain america cartoons/an-avenger-endgame.jpg\n",
      "    Downloaded the image. ==> downloads/captain america cartoons/captain-america-superheroes-artwork-artist-hava.jpg\n",
      "    Downloaded the image. ==> downloads/captain america cartoons/a2ea4a362e9cafb0a35c88709d7c725d.jpg\n",
      "    Downloaded the image. ==> downloads/captain america cartoons/696c9b969e57c63f6a25de8b4d418814.jpg\n",
      "    Downloaded the image. ==> downloads/captain america cartoons/cfc69ce0eca38ed40faa609738053dcd.png\n",
      "    fail: https://mainstyles.ru/uploads/Comic_Captain_America_LGBT_01_Mainstyle.jpg error: <class 'requests.exceptions.SSLError'>\n",
      "    Downloaded the image. ==> downloads/captain america cartoons/91f9e9829f0af93af5646756b32e20a9.png\n",
      "    Downloaded the image. ==> downloads/captain america cartoons/d4360f8738c65556e82395ee7666ef9c.jpg\n",
      "    Downloaded the image. ==> downloads/captain america cartoons/png-clipart-captain-america-s-shield-marvel-comics.png\n",
      "    Downloaded the image. ==> downloads/captain america cartoons/28c9f70115839f965d2bde7746e8e867.jpg\n",
      "    Downloaded the image. ==> downloads/captain america cartoons/marvel-comic-captain-america_a25mZ2aUmZqaraWkpJRnb.jpg\n",
      "    Downloaded the image. ==> downloads/captain america cartoons/708145d328a050e14399ea56134bbdfb--avengers-marvel-.jpg\n",
      "    Downloaded the image. ==> downloads/captain america cartoons/captain_america_by_kryntheviking-d5lizdw.jpg\n",
      "    Downloaded the image. ==> downloads/captain america cartoons/f9bf4c675307e2c5cc768de6aa2999b3.jpg\n",
      "    Downloaded the image. ==> downloads/captain america cartoons/fb8b46bf4fd6f6575cce2bd1501abe02.jpg\n",
      "    Downloaded the image. ==> downloads/captain america cartoons/gratis-png-capitan-america-superheroe-de-dibujos-a.png\n",
      "    Downloaded the image. ==> downloads/captain america cartoons/8e3a0298a9f0d2ff5785101ceba46927.png\n",
      "    Downloaded the image. ==> downloads/captain america cartoons/62aea3c97e455552dac510aaf1a4fa1f--digital-art-marv.jpg\n",
      "    Downloaded the image. ==> downloads/captain america cartoons/a5c822710629b1f877f9b85876b49ef8.jpg\n",
      "    Downloaded the image. ==> downloads/captain america cartoons/44-444338_captain-america-clipart-aou-cute-captain.png\n",
      "    Downloaded the image. ==> downloads/captain america cartoons/captain-america-clipart-26.jpg\n",
      "    Downloaded the image. ==> downloads/captain america cartoons/464-4646817_captain-america-clipart-download-capta.png\n",
      "    fail: https://wallup.net/wp-content/uploads/2019/10/943965-captain-america-3-civil-war-marvel-superhero-action-fighting-1cacw-warrior-sci-fi.jpg error: ('Something is wrong here.', \" Error: (<class 'KeyError'>, KeyError('image/jpg'))\")\n",
      "    Downloaded the image. ==> downloads/captain america cartoons/78352aa63c7d0f703dfe3569f4a418f5.png\n",
      "    Downloaded the image. ==> downloads/captain america cartoons/png-clipart-captain-america-illustration-captain-a.png\n",
      "All images for captain america cartoons downloaded!\n",
      "\n",
      "Everything downloaded!\n",
      "Total errors: 2\n",
      "Total files downloaded: 48\n",
      "Total time taken: 73.93765902519226 seconds.\n"
     ]
    }
   ],
   "source": [
    "! yandex-images-download Chrome --keywords \"captain america cartoons\" --limit 50 "
   ]
  },
  {
   "cell_type": "markdown",
   "metadata": {},
   "source": [
    "### Do some cleanup\n",
    "Now I just want to move all files to the corresponding directory and remove all duplicate files. Duplicates are downloaded with a space and number in the name (i.e., 'file (1).jpg' would be a duplicate of 'file.jpg')."
   ]
  },
  {
   "cell_type": "code",
   "execution_count": 10,
   "metadata": {},
   "outputs": [],
   "source": [
    "! mv downloads/captain\\ america\\ cartoons/* characters/good/captain_america_cartoons/."
   ]
  },
  {
   "cell_type": "code",
   "execution_count": 11,
   "metadata": {},
   "outputs": [],
   "source": [
    "! rm -rf downloads"
   ]
  },
  {
   "cell_type": "code",
   "execution_count": 12,
   "metadata": {},
   "outputs": [
    {
     "name": "stdout",
     "output_type": "stream",
     "text": [
      "rm: characters/good/captain_america_cartoons/* *.jpg: No such file or directory\r\n"
     ]
    }
   ],
   "source": [
    "! rm characters/good/captain_america_cartoons/*\\ *.jpg"
   ]
  },
  {
   "cell_type": "code",
   "execution_count": null,
   "metadata": {},
   "outputs": [],
   "source": []
  }
 ],
 "metadata": {
  "kernelspec": {
   "display_name": "Python 3",
   "language": "python",
   "name": "python3"
  },
  "language_info": {
   "codemirror_mode": {
    "name": "ipython",
    "version": 3
   },
   "file_extension": ".py",
   "mimetype": "text/x-python",
   "name": "python",
   "nbconvert_exporter": "python",
   "pygments_lexer": "ipython3",
   "version": "3.7.4"
  }
 },
 "nbformat": 4,
 "nbformat_minor": 2
}
